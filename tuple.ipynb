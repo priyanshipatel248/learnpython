{
 "metadata": {
  "language_info": {
   "codemirror_mode": {
    "name": "ipython",
    "version": 3
   },
   "file_extension": ".py",
   "mimetype": "text/x-python",
   "name": "python",
   "nbconvert_exporter": "python",
   "pygments_lexer": "ipython3",
   "version": "3.8.5-final"
  },
  "orig_nbformat": 2,
  "kernelspec": {
   "name": "python385jvsc74a57bd08a6378035587bb97055001603ea9d85a2aa377cc6252a50ffca4355a71bc8b90",
   "display_name": "Python 3.8.5 64-bit"
  },
  "metadata": {
   "interpreter": {
    "hash": "8a6378035587bb97055001603ea9d85a2aa377cc6252a50ffca4355a71bc8b90"
   }
  }
 },
 "nbformat": 4,
 "nbformat_minor": 2,
 "cells": [
  {
   "cell_type": "code",
   "execution_count": 1,
   "metadata": {},
   "outputs": [
    {
     "output_type": "stream",
     "name": "stdout",
     "text": [
      "('car', 'bike', 'bus', 'scooter', True, 3.4, 4)\n"
     ]
    }
   ],
   "source": [
    "#ordered unchangable and allow duplicates\n",
    "t=(\"car\",\"bike\",\"bus\",\"scooter\",True,3.4,4)\n",
    "print(t)"
   ]
  },
  {
   "cell_type": "code",
   "execution_count": 2,
   "metadata": {},
   "outputs": [
    {
     "output_type": "stream",
     "name": "stdout",
     "text": [
      "7\n"
     ]
    }
   ],
   "source": [
    "print(len(t))"
   ]
  },
  {
   "cell_type": "code",
   "execution_count": 3,
   "metadata": {},
   "outputs": [
    {
     "output_type": "stream",
     "name": "stdout",
     "text": [
      "<class 'tuple'>\n"
     ]
    }
   ],
   "source": [
    "print(type(t))"
   ]
  },
  {
   "cell_type": "code",
   "execution_count": 6,
   "metadata": {},
   "outputs": [
    {
     "output_type": "stream",
     "name": "stdout",
     "text": [
      "<class 'str'>\n<class 'float'>\n"
     ]
    }
   ],
   "source": [
    "#if tuple contain same data type value then print the type\n",
    "t1=\"car\"\n",
    "print(type(t1))\n",
    "t2=3.4\n",
    "print(type(t2))"
   ]
  },
  {
   "cell_type": "code",
   "execution_count": 8,
   "metadata": {},
   "outputs": [
    {
     "output_type": "stream",
     "name": "stdout",
     "text": [
      "<class 'str'>\n<class 'tuple'>\n"
     ]
    }
   ],
   "source": [
    "#declared single value consider as variable\n",
    "\n",
    "f=(\"car\")\n",
    "print(type(f))\n",
    "\n",
    "#use coma the it will consider as tuple\n",
    "f1=(\"car\",)\n",
    "print(type(f1))"
   ]
  },
  {
   "cell_type": "code",
   "execution_count": 10,
   "metadata": {},
   "outputs": [
    {
     "output_type": "stream",
     "name": "stdout",
     "text": [
      "('coffee', 'tea', 'bournvita')\n"
     ]
    }
   ],
   "source": [
    "#slicing in tuple\n",
    "item=(\"coffee\",\"tea\",\"bournvita\")\n",
    "print(item[:3])\n"
   ]
  },
  {
   "cell_type": "code",
   "execution_count": 11,
   "metadata": {},
   "outputs": [
    {
     "output_type": "stream",
     "name": "stdout",
     "text": [
      "('tea', 'bournvita')\n"
     ]
    }
   ],
   "source": [
    "print(item[1:])"
   ]
  },
  {
   "cell_type": "code",
   "execution_count": 16,
   "metadata": {},
   "outputs": [
    {
     "output_type": "stream",
     "name": "stdout",
     "text": [
      "('happy', 'enthusiastic', 'angry', 'anxiety')\n"
     ]
    }
   ],
   "source": [
    "#add value in tuple indirectly\n",
    "z=(\"happy\",\"sad\",\"angry\",\"anxiety\")\n",
    "y=list(z)#convert list into tuple\n",
    "y[1]=\"enthusiastic\"\n",
    "\n",
    "x=tuple(y)\n",
    "print(x)\n"
   ]
  },
  {
   "cell_type": "code",
   "execution_count": null,
   "metadata": {},
   "outputs": [],
   "source": []
  }
 ]
}