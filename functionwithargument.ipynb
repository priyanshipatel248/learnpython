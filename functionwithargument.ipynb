{
 "metadata": {
  "language_info": {
   "codemirror_mode": {
    "name": "ipython",
    "version": 3
   },
   "file_extension": ".py",
   "mimetype": "text/x-python",
   "name": "python",
   "nbconvert_exporter": "python",
   "pygments_lexer": "ipython3",
   "version": "3.8.5-final"
  },
  "orig_nbformat": 2,
  "kernelspec": {
   "name": "python385jvsc74a57bd08a6378035587bb97055001603ea9d85a2aa377cc6252a50ffca4355a71bc8b90",
   "display_name": "Python 3.8.5 64-bit"
  },
  "metadata": {
   "interpreter": {
    "hash": "8a6378035587bb97055001603ea9d85a2aa377cc6252a50ffca4355a71bc8b90"
   }
  }
 },
 "nbformat": 4,
 "nbformat_minor": 2,
 "cells": [
  {
   "cell_type": "code",
   "execution_count": 2,
   "metadata": {},
   "outputs": [
    {
     "output_type": "stream",
     "name": "stdout",
     "text": [
      "local data\n"
     ]
    }
   ],
   "source": [
    "def trial(x,y):\n",
    "    print(x+\" \"+y)\n",
    "trial(\"local\",\"data\")    "
   ]
  },
  {
   "cell_type": "code",
   "execution_count": 7,
   "metadata": {},
   "outputs": [
    {
     "output_type": "stream",
     "name": "stdout",
     "text": [
      "['apple', 'grapes', 'Guvava', 'apple', 'grapes', 'Guvava']\n"
     ]
    }
   ],
   "source": [
    "l=['apple','grapes','Guvava']\n",
    "def repeat(x):\n",
    "    print(x*2)\n",
    "repeat(l)    \n"
   ]
  },
  {
   "cell_type": "code",
   "execution_count": 9,
   "metadata": {},
   "outputs": [
    {
     "output_type": "stream",
     "name": "stdout",
     "text": [
      "appleapple\ngrapesgrapes\nGuvavaGuvava\n"
     ]
    }
   ],
   "source": [
    "#function as argument\n",
    "def maping(mul,l):\n",
    "    for items in l:\n",
    "        mul(items)\n",
    "maping(repeat,l)   #function pass another function and list\n",
    "     "
   ]
  },
  {
   "cell_type": "code",
   "execution_count": 17,
   "metadata": {},
   "outputs": [
    {
     "output_type": "stream",
     "name": "stdout",
     "text": [
      "patel priyanshi\n"
     ]
    }
   ],
   "source": [
    "def myfunction(fname,lname):\n",
    "    print(lname+\" \"+fname)\n",
    "myfunction(\"priyanshi\",\"patel\")"
   ]
  },
  {
   "cell_type": "code",
   "execution_count": 19,
   "metadata": {},
   "outputs": [
    {
     "output_type": "stream",
     "name": "stdout",
     "text": [
      "apple\ngrapes\nbanana\n"
     ]
    }
   ],
   "source": [
    "def f(fitems):\n",
    "    for i in fitems:\n",
    "        print(i)\n",
    "fruits=[\"apple\",\"grapes\",\"banana\"]#define list as locally\n",
    "f(fruits)        "
   ]
  },
  {
   "cell_type": "code",
   "execution_count": 25,
   "metadata": {},
   "outputs": [
    {
     "output_type": "stream",
     "name": "stdout",
     "text": [
      "15\n25\n45\n"
     ]
    }
   ],
   "source": [
    " def my_function(x): \n",
    "     return 5 * x \n",
    "print(my_function(3))\n",
    "print(my_function(5)) \n",
    "print(my_function(9))"
   ]
  },
  {
   "cell_type": "code",
   "execution_count": null,
   "metadata": {},
   "outputs": [],
   "source": []
  }
 ]
}