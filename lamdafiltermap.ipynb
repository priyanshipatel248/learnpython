{
 "metadata": {
  "language_info": {
   "codemirror_mode": {
    "name": "ipython",
    "version": 3
   },
   "file_extension": ".py",
   "mimetype": "text/x-python",
   "name": "python",
   "nbconvert_exporter": "python",
   "pygments_lexer": "ipython3",
   "version": "3.8.5"
  },
  "orig_nbformat": 2,
  "kernelspec": {
   "name": "python385jvsc74a57bd08a6378035587bb97055001603ea9d85a2aa377cc6252a50ffca4355a71bc8b90",
   "display_name": "Python 3.8.5 64-bit"
  },
  "metadata": {
   "interpreter": {
    "hash": "8a6378035587bb97055001603ea9d85a2aa377cc6252a50ffca4355a71bc8b90"
   }
  }
 },
 "nbformat": 4,
 "nbformat_minor": 2,
 "cells": [
  {
   "cell_type": "code",
   "execution_count": 2,
   "metadata": {},
   "outputs": [
    {
     "output_type": "stream",
     "name": "stdout",
     "text": [
      "42\n"
     ]
    }
   ],
   "source": [
    "x=lambda a,b: a+b\n",
    "print(x(12,30))"
   ]
  },
  {
   "cell_type": "code",
   "execution_count": 2,
   "metadata": {},
   "outputs": [
    {
     "output_type": "stream",
     "name": "stdout",
     "text": [
      "22\n33\n"
     ]
    }
   ],
   "source": [
    "def f1(n):\n",
    "    return lambda a: a*n\n",
    "double=f1(2)\n",
    "trip=f1(3)\n",
    "print(double(11))\n",
    "print(trip(11))"
   ]
  },
  {
   "cell_type": "code",
   "execution_count": 14,
   "metadata": {},
   "outputs": [
    {
     "output_type": "stream",
     "name": "stdout",
     "text": [
      "prime numbers are: (3, 5, 7, 9)\n"
     ]
    }
   ],
   "source": [
    "def prime(x):\n",
    "    for i in range(2,x):\n",
    "        if x%i==0:\n",
    "            return False\n",
    "        else:\n",
    "            return True\n",
    "filtered=filter(prime,range(10))\n",
    "print(\"prime numbers are:\",tuple(filtered))             \n",
    "\n",
    "\n",
    "         \n"
   ]
  },
  {
   "cell_type": "code",
   "execution_count": 20,
   "metadata": {},
   "outputs": [
    {
     "output_type": "stream",
     "name": "stdout",
     "text": [
      "[1, 4, 9, 16, 25]\n"
     ]
    }
   ],
   "source": [
    "def squ(x):\n",
    "    return x*x\n",
    "number=[1,2,3,4,5]\n",
    "listsqu=map(squ,number)   \n",
    "print(list(listsqu))"
   ]
  },
  {
   "cell_type": "code",
   "execution_count": 25,
   "metadata": {},
   "outputs": [
    {
     "output_type": "stream",
     "name": "stdout",
     "text": [
      "filtered letters are:\ne\ne\n"
     ]
    }
   ],
   "source": [
    "def fun(variable):\n",
    "    letter=['a','e','i','o','u']\n",
    "    if variable in letter:\n",
    "        return True\n",
    "    else:\n",
    "        return False\n",
    "seque=['g','e','e','k']\n",
    "flitered=filter(fun,seque)\n",
    "print(\"filtered letters are:\")\n",
    "for s in flitered:\n",
    "    print(s)\n"
   ]
  },
  {
   "cell_type": "code",
   "execution_count": null,
   "metadata": {},
   "outputs": [],
   "source": []
  }
 ]
}