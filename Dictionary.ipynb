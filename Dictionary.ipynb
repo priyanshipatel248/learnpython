{
 "metadata": {
  "language_info": {
   "codemirror_mode": {
    "name": "ipython",
    "version": 3
   },
   "file_extension": ".py",
   "mimetype": "text/x-python",
   "name": "python",
   "nbconvert_exporter": "python",
   "pygments_lexer": "ipython3",
   "version": "3.8.5-final"
  },
  "orig_nbformat": 2,
  "kernelspec": {
   "name": "python385jvsc74a57bd08a6378035587bb97055001603ea9d85a2aa377cc6252a50ffca4355a71bc8b90",
   "display_name": "Python 3.8.5 64-bit"
  },
  "metadata": {
   "interpreter": {
    "hash": "8a6378035587bb97055001603ea9d85a2aa377cc6252a50ffca4355a71bc8b90"
   }
  }
 },
 "nbformat": 4,
 "nbformat_minor": 2,
 "cells": [
  {
   "cell_type": "code",
   "execution_count": 8,
   "metadata": {},
   "outputs": [
    {
     "output_type": "stream",
     "name": "stdout",
     "text": [
      "{1: 'apple', 2: 'grapes', 3: 'cream', 4: 'mango'}\n"
     ]
    }
   ],
   "source": [
    "#unordered ,changeble, don't allow duplicate values\n",
    "d={1:\"apple\",2:\"grapes\",3:\"cream\",4:\"banana\",4:\"mango\"}\n",
    "#consider only last add value for same key\n",
    "print(d)"
   ]
  },
  {
   "cell_type": "code",
   "execution_count": 9,
   "metadata": {},
   "outputs": [
    {
     "output_type": "stream",
     "name": "stdout",
     "text": [
      "apple\n4\n"
     ]
    }
   ],
   "source": [
    "print(d[1])\n",
    "print(len(d))"
   ]
  },
  {
   "cell_type": "code",
   "execution_count": 39,
   "metadata": {},
   "outputs": [
    {
     "output_type": "error",
     "ename": "SyntaxError",
     "evalue": "unexpected EOF while parsing (<ipython-input-39-51c5955ee5c8>, line 9)",
     "traceback": [
      "\u001b[1;36m  File \u001b[1;32m\"<ipython-input-39-51c5955ee5c8>\"\u001b[1;36m, line \u001b[1;32m9\u001b[0m\n\u001b[1;33m    \u001b[0m\n\u001b[1;37m    ^\u001b[0m\n\u001b[1;31mSyntaxError\u001b[0m\u001b[1;31m:\u001b[0m unexpected EOF while parsing\n"
     ]
    }
   ],
   "source": [
    "info={\"f_name\":\"Pritesh\",\"l_name\":\"Sheth\",\"country\":\"india\",\"age\":14}\n",
    "print(info)\n",
    "#access value by it's key\n",
    "print(info[\"country\"])\n",
    "\n",
    "#2nd method\n",
    "print(info.get(\"country\"))\n",
    "\n",
    "\n"
   ]
  },
  {
   "cell_type": "code",
   "execution_count": 15,
   "metadata": {},
   "outputs": [
    {
     "output_type": "stream",
     "name": "stdout",
     "text": [
      "{'name': 'kripa', 'vehical': 'activa', 'fruits': ['oranges', 'grapes', 'guvava']}\n<class 'dict'>\n"
     ]
    }
   ],
   "source": [
    "#use list in dictionary\n",
    "details={\"name\":\"kripa\",\"vehical\":\"activa\",\"fruits\":[\"oranges\",'grapes',\"guvava\"]}\n",
    "print(details)\n",
    "print(type(details))"
   ]
  },
  {
   "cell_type": "code",
   "execution_count": 20,
   "metadata": {},
   "outputs": [
    {
     "output_type": "stream",
     "name": "stdout",
     "text": [
      "{'name': 'kripa', 'vehical': 'scooty', 'fruits': ['oranges', 'grapes', 'guvava']}\n"
     ]
    }
   ],
   "source": [
    "details[\"vehical\"]=\"scooty\"\n",
    "print(details)"
   ]
  },
  {
   "cell_type": "code",
   "execution_count": 25,
   "metadata": {},
   "outputs": [
    {
     "output_type": "stream",
     "name": "stdout",
     "text": [
      "{'name': 'prkruti', 'vehical': 'scooty', 'fruits': ['oranges', 'grapes', 'guvava']}\n"
     ]
    }
   ],
   "source": [
    "#change value\n",
    "details[\"name\"]=\"prkruti\"\n",
    "print(details)"
   ]
  },
  {
   "cell_type": "code",
   "execution_count": 26,
   "metadata": {},
   "outputs": [
    {
     "output_type": "stream",
     "name": "stdout",
     "text": [
      "{'name': 'prkruti', 'vehical': 'scooty', 'fruits': ['oranges', 'grapes', 'guvava'], 'food': ['roti', 'sabji', 'salad']}\n"
     ]
    }
   ],
   "source": [
    "#add value\n",
    "details[\"food\"]=[\"roti\",\"sabji\",\"salad\"]\n",
    "print(details)"
   ]
  },
  {
   "cell_type": "code",
   "execution_count": 37,
   "metadata": {},
   "outputs": [
    {
     "output_type": "stream",
     "name": "stdout",
     "text": [
      "{'s1': 'raj', 's2': 'shweta', 's3': 'kiran', 's4': 'khanak'}\n{'s1': 'raj', 's3': 'kiran', 's4': 'khanak'}\n"
     ]
    }
   ],
   "source": [
    "data={\"s1\":\"raj\",\"s2\":\"shweta\",\"s3\":\"kiran\",\"s4\":\"khanak\"}\n",
    "print(data)\n",
    "#remove value\n",
    "data.pop(\"s2\")\n",
    "print(data)"
   ]
  },
  {
   "cell_type": "code",
   "execution_count": null,
   "metadata": {},
   "outputs": [],
   "source": []
  }
 ]
}