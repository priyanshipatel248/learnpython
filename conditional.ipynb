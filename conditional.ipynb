{
 "metadata": {
  "language_info": {
   "codemirror_mode": {
    "name": "ipython",
    "version": 3
   },
   "file_extension": ".py",
   "mimetype": "text/x-python",
   "name": "python",
   "nbconvert_exporter": "python",
   "pygments_lexer": "ipython3",
   "version": "3.8.5-final"
  },
  "orig_nbformat": 2,
  "kernelspec": {
   "name": "python385jvsc74a57bd08a6378035587bb97055001603ea9d85a2aa377cc6252a50ffca4355a71bc8b90",
   "display_name": "Python 3.8.5 64-bit"
  },
  "metadata": {
   "interpreter": {
    "hash": "8a6378035587bb97055001603ea9d85a2aa377cc6252a50ffca4355a71bc8b90"
   }
  }
 },
 "nbformat": 4,
 "nbformat_minor": 2,
 "cells": [
  {
   "cell_type": "code",
   "execution_count": 1,
   "metadata": {},
   "outputs": [
    {
     "output_type": "stream",
     "name": "stdout",
     "text": [
      "a is less than b\n"
     ]
    }
   ],
   "source": [
    "#if else\n",
    "a=12\n",
    "b=13\n",
    "if(a>b):\n",
    "    print(\"a is greater than b\")\n",
    "else:\n",
    "    print(\"a is less than b\")    "
   ]
  },
  {
   "cell_type": "code",
   "execution_count": 4,
   "metadata": {},
   "outputs": [
    {
     "output_type": "stream",
     "name": "stdout",
     "text": [
      "p is greater than q\n"
     ]
    }
   ],
   "source": [
    "p=233\n",
    "q=212\n",
    "print(\"p is greater than q\") if p>q else print(\"p is less than q\")"
   ]
  },
  {
   "cell_type": "code",
   "execution_count": 3,
   "metadata": {},
   "outputs": [
    {
     "output_type": "stream",
     "name": "stdout",
     "text": [
      "x is as equal to y\n"
     ]
    }
   ],
   "source": [
    "x=12\n",
    "y=12\n",
    "if(x>y):\n",
    "    print(\"x is greter than y\")\n",
    "elif(x==y):\n",
    "    print(\"x is as equal to y\")\n",
    "else:\n",
    "    print(\"x is less than y\")        \n"
   ]
  },
  {
   "cell_type": "code",
   "execution_count": 5,
   "metadata": {},
   "outputs": [
    {
     "output_type": "stream",
     "name": "stdout",
     "text": [
      "num2 is smallest\n"
     ]
    }
   ],
   "source": [
    "num1=122\n",
    "num2=20\n",
    "num3=234\n",
    "if num2<num1 and num2<num3:\n",
    "    print(\"num2 is smallest\")\n",
    "else:\n",
    "    print(\"num2 is greater\")     "
   ]
  },
  {
   "cell_type": "code",
   "execution_count": null,
   "metadata": {},
   "outputs": [],
   "source": []
  }
 ]
}