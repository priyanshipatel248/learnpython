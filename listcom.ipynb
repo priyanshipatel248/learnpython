{
 "metadata": {
  "language_info": {
   "codemirror_mode": {
    "name": "ipython",
    "version": 3
   },
   "file_extension": ".py",
   "mimetype": "text/x-python",
   "name": "python",
   "nbconvert_exporter": "python",
   "pygments_lexer": "ipython3",
   "version": "3.8.5-final"
  },
  "orig_nbformat": 2,
  "kernelspec": {
   "name": "python385jvsc74a57bd08a6378035587bb97055001603ea9d85a2aa377cc6252a50ffca4355a71bc8b90",
   "display_name": "Python 3.8.5 64-bit"
  },
  "metadata": {
   "interpreter": {
    "hash": "8a6378035587bb97055001603ea9d85a2aa377cc6252a50ffca4355a71bc8b90"
   }
  }
 },
 "nbformat": 4,
 "nbformat_minor": 2,
 "cells": [
  {
   "cell_type": "code",
   "execution_count": 5,
   "metadata": {},
   "outputs": [
    {
     "output_type": "stream",
     "name": "stdout",
     "text": [
      "['apple', 'grapes', 'pinapple']\n"
     ]
    }
   ],
   "source": [
    "fruits=[\"apple\",\"grapes\",\"pinapple\",\"kiwi\",\"mango\"]\n",
    "pfruit=[]\n",
    "for x in fruits:\n",
    "    if \"p\" in x:\n",
    "       pfruit.append(x)\n",
    "print(pfruit)    \n"
   ]
  },
  {
   "cell_type": "code",
   "execution_count": 7,
   "metadata": {},
   "outputs": [
    {
     "output_type": "stream",
     "name": "stdout",
     "text": [
      "['apple', 'grapes', 'pinapple', 'mango']\n"
     ]
    }
   ],
   "source": [
    "newfruit=[ x for x in fruits if x!=\"kiwi\"]\n",
    "print(newfruit)"
   ]
  },
  {
   "cell_type": "code",
   "execution_count": 9,
   "metadata": {},
   "outputs": [
    {
     "output_type": "stream",
     "name": "stdout",
     "text": [
      "[0, 1, 2, 3, 4, 5, 6, 7, 8, 9, 10]\n"
     ]
    }
   ],
   "source": [
    "newgroup=[x for x in range(11)]\n",
    "print(newgroup)"
   ]
  },
  {
   "cell_type": "code",
   "execution_count": 10,
   "metadata": {},
   "outputs": [
    {
     "output_type": "stream",
     "name": "stdout",
     "text": [
      "[0, 1, 2, 3, 4, 5]\n"
     ]
    }
   ],
   "source": [
    "new=[i for i in range(10) if i<6]\n",
    "print(new)"
   ]
  },
  {
   "cell_type": "code",
   "execution_count": 11,
   "metadata": {},
   "outputs": [
    {
     "output_type": "stream",
     "name": "stdout",
     "text": [
      "['APPLE', 'GRAPES', 'PINAPPLE', 'KIWI', 'MANGO']\n"
     ]
    }
   ],
   "source": [
    "#convert list in upper\n",
    "n=[i.upper() for i in fruits]\n",
    "print(n)"
   ]
  },
  {
   "cell_type": "code",
   "execution_count": 14,
   "metadata": {},
   "outputs": [
    {
     "output_type": "stream",
     "name": "stdout",
     "text": [
      "['apple', 'grapes', 'pinapple', 'orange', 'mango']\n['apple', 'grapes', 'pinapple', 'orange', 'mango', 'apple', 'grapes', 'pinapple', 'orange', 'mango', 'apple', 'grapes', 'pinapple', 'orange', 'mango']\n"
     ]
    }
   ],
   "source": [
    "iff=[i if i!=\"kiwi\" else \"orange\" for i in fruits]\n",
    "print(iff)\n",
    "print(iff*3)"
   ]
  },
  {
   "cell_type": "code",
   "execution_count": null,
   "metadata": {},
   "outputs": [],
   "source": []
  }
 ]
}