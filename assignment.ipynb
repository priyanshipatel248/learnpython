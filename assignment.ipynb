{
 "metadata": {
  "language_info": {
   "codemirror_mode": {
    "name": "ipython",
    "version": 3
   },
   "file_extension": ".py",
   "mimetype": "text/x-python",
   "name": "python",
   "nbconvert_exporter": "python",
   "pygments_lexer": "ipython3",
   "version": "3.8.5"
  },
  "orig_nbformat": 2,
  "kernelspec": {
   "name": "python385jvsc74a57bd08a6378035587bb97055001603ea9d85a2aa377cc6252a50ffca4355a71bc8b90",
   "display_name": "Python 3.8.5 64-bit"
  },
  "metadata": {
   "interpreter": {
    "hash": "8a6378035587bb97055001603ea9d85a2aa377cc6252a50ffca4355a71bc8b90"
   }
  }
 },
 "nbformat": 4,
 "nbformat_minor": 2,
 "cells": [
  {
   "cell_type": "code",
   "execution_count": 4,
   "metadata": {},
   "outputs": [
    {
     "output_type": "stream",
     "name": "stdout",
     "text": [
      "fibonnaci series:\n0\n1\n"
     ]
    }
   ],
   "source": [
    "#fibonacci series\n",
    "num = int(input(\"enter the terms\"))\n",
    "n1, n2 = 0, 1\n",
    "count = 0\n",
    "\n",
    "if num < 1:\n",
    "   print(\"plz enter the positive number\")\n",
    "elif num == 1:\n",
    "   print(\"fibonnaci series upto\", num, \":\")\n",
    "   print(n1)\n",
    "else:\n",
    "   print(\"fibonnaci series:\")\n",
    "   while count < num:\n",
    "       print(n1)\n",
    "       n = n1 + n2\n",
    "       n1 = n2\n",
    "       n2 = n\n",
    "       count += 1\n"
   ]
  },
  {
   "cell_type": "code",
   "execution_count": 6,
   "metadata": {},
   "outputs": [
    {
     "output_type": "stream",
     "name": "stdout",
     "text": [
      "23 is odd number\n"
     ]
    }
   ],
   "source": [
    "#check the odd even\n",
    "n=int(input(\"enter the number\")) \n",
    "if n%2==0:\n",
    "    print(n,\"is even number\")\n",
    "else:\n",
    "    print(n,\"is odd number\")\n"
   ]
  },
  {
   "cell_type": "code",
   "execution_count": 13,
   "metadata": {},
   "outputs": [
    {
     "output_type": "stream",
     "name": "stdout",
     "text": [
      "23 is prime number\n"
     ]
    }
   ],
   "source": [
    "#check the nuumber is prime or not\n",
    "no=int(input(\"enter the number \"))\n",
    "if no>1:\n",
    "  for i in range(2,no):\n",
    "    if n%i==0:\n",
    "       print(n,\"is not prime number\")\n",
    "       break    \n",
    "    else:\n",
    "       print(n,\"is prime number\")\n",
    "else:\n",
    "    print(\"given number is less than zero\")              "
   ]
  },
  {
   "cell_type": "code",
   "execution_count": null,
   "metadata": {},
   "outputs": [],
   "source": []
  }
 ]
}