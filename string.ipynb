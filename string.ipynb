{
 "metadata": {
  "language_info": {
   "codemirror_mode": {
    "name": "ipython",
    "version": 3
   },
   "file_extension": ".py",
   "mimetype": "text/x-python",
   "name": "python",
   "nbconvert_exporter": "python",
   "pygments_lexer": "ipython3",
   "version": "3.8.5-final"
  },
  "orig_nbformat": 2,
  "kernelspec": {
   "name": "python385jvsc74a57bd08a6378035587bb97055001603ea9d85a2aa377cc6252a50ffca4355a71bc8b90",
   "display_name": "Python 3.8.5 64-bit"
  },
  "metadata": {
   "interpreter": {
    "hash": "8a6378035587bb97055001603ea9d85a2aa377cc6252a50ffca4355a71bc8b90"
   }
  }
 },
 "nbformat": 4,
 "nbformat_minor": 2,
 "cells": [
  {
   "cell_type": "code",
   "execution_count": 1,
   "metadata": {},
   "outputs": [
    {
     "output_type": "stream",
     "name": "stdout",
     "text": [
      " This is \n  yellow color\n  \n"
     ]
    }
   ],
   "source": [
    "#multiline string(double quoted)\n",
    "x=\"\"\" This is \n",
    "  yellow color\n",
    "  \"\"\"\n",
    "print(x)"
   ]
  },
  {
   "cell_type": "code",
   "execution_count": 2,
   "metadata": {},
   "outputs": [
    {
     "output_type": "stream",
     "name": "stdout",
     "text": [
      "\n   this is also \n    yellow\n    color\n    \n"
     ]
    }
   ],
   "source": [
    "y='''\n",
    "   this is also \n",
    "    yellow\n",
    "    color\n",
    "    '''\n",
    "print(y)"
   ]
  },
  {
   "cell_type": "code",
   "execution_count": 4,
   "metadata": {},
   "outputs": [
    {
     "output_type": "stream",
     "name": "stdout",
     "text": [
      "w\n11\n"
     ]
    }
   ],
   "source": [
    "#access word by index\n",
    "x=\"Hello world\"\n",
    "print(x[6])\n",
    "#length \n",
    "print(len(x))#include space"
   ]
  },
  {
   "cell_type": "code",
   "execution_count": 5,
   "metadata": {},
   "outputs": [
    {
     "output_type": "stream",
     "name": "stdout",
     "text": [
      "s\ni\nm\np\nl\ne\n \nl\ni\nv\ni\nn\ng\n"
     ]
    }
   ],
   "source": [
    "#print all the charcter of string by for\n",
    "y=\"simple living\"\n",
    "for i in y:\n",
    "    print(i)"
   ]
  },
  {
   "cell_type": "code",
   "execution_count": 7,
   "metadata": {},
   "outputs": [
    {
     "output_type": "stream",
     "name": "stdout",
     "text": [
      "True\nFalse\n"
     ]
    }
   ],
   "source": [
    "#check word is present in the string\n",
    "sample=\"Creativity gives producativity\"\n",
    "print(\"gives\" in sample)#give ans in boolean variable\n",
    "print(\"hi\"in sample)\n"
   ]
  },
  {
   "cell_type": "code",
   "execution_count": 8,
   "metadata": {},
   "outputs": [
    {
     "output_type": "stream",
     "name": "stdout",
     "text": [
      "i t\n"
     ]
    }
   ],
   "source": [
    "#slicing\n",
    "demo=\"hi there!!\"\n",
    "print(demo[1:4])#in square parentheses leftvalue is inclusive and right value is exclusive.\n"
   ]
  },
  {
   "cell_type": "code",
   "execution_count": 9,
   "metadata": {},
   "outputs": [
    {
     "output_type": "stream",
     "name": "stdout",
     "text": [
      "i there!!\n"
     ]
    }
   ],
   "source": [
    "#print till end\n",
    "print(demo[1:])"
   ]
  },
  {
   "cell_type": "code",
   "execution_count": 12,
   "metadata": {},
   "outputs": [
    {
     "output_type": "stream",
     "name": "stdout",
     "text": [
      "ere!\n"
     ]
    }
   ],
   "source": [
    "#negative indexing\n",
    "print(demo[-5:-1])"
   ]
  },
  {
   "cell_type": "code",
   "execution_count": 16,
   "metadata": {},
   "outputs": [
    {
     "output_type": "stream",
     "name": "stdout",
     "text": [
      "little things\nLITTLE THINGS\nLittle things\nLittle things\n"
     ]
    }
   ],
   "source": [
    "#method in string\n",
    "small=\"Little things\"\n",
    "print(small.lower())#convert it into lower case\n",
    "print(small.upper())#convert it into upper case\n",
    "\n"
   ]
  },
  {
   "cell_type": "code",
   "execution_count": 24,
   "metadata": {},
   "outputs": [
    {
     "output_type": "stream",
     "name": "stdout",
     "text": [
      "hi\nHello\nHelloAaaaa\nAaaaaHello\n"
     ]
    }
   ],
   "source": [
    "#strip method\n",
    "str=\"!!!!!!!hi!!!!!!\"\n",
    "print(str.strip(\"!\"))\n",
    "str1=\"AaaaaHelloAaaaa\"\n",
    "print(str1.strip(\"Aa\"))\n",
    "#left strip\n",
    "print(str1.lstrip(\"Aa\"))\n",
    "#right strip\n",
    "print(str1.rstrip(\"Aa\"))"
   ]
  },
  {
   "cell_type": "code",
   "execution_count": 26,
   "metadata": {},
   "outputs": [
    {
     "output_type": "stream",
     "name": "stdout",
     "text": [
      "corld\n"
     ]
    }
   ],
   "source": [
    "#replace\n",
    "st1=\"world\"\n",
    "print(st1.replace(\"w\",\"c\"))"
   ]
  },
  {
   "cell_type": "code",
   "execution_count": 27,
   "metadata": {},
   "outputs": [
    {
     "output_type": "stream",
     "name": "stdout",
     "text": [
      "['Hello', 'there!!']\n"
     ]
    }
   ],
   "source": [
    "st2=\"Hello,there!!\"\n",
    "print(st2.split(\",\"))"
   ]
  },
  {
   "cell_type": "code",
   "execution_count": 32,
   "metadata": {},
   "outputs": [
    {
     "output_type": "stream",
     "name": "stdout",
     "text": [
      "Hi Priyanshi\nHiPriyanshi\nHi Priyanshi\n"
     ]
    }
   ],
   "source": [
    "#concatination\n",
    "a=\"Hi\"\n",
    "b=\"Priyanshi\"\n",
    "c=\" \"\n",
    "print(a+c+b)\n",
    "print(a+b)\n",
    "print(a+\" \"+b)"
   ]
  },
  {
   "cell_type": "code",
   "execution_count": null,
   "metadata": {},
   "outputs": [],
   "source": []
  }
 ]
}